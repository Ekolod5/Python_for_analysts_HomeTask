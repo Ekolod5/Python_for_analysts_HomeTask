{
 "cells": [
  {
   "cell_type": "markdown",
   "metadata": {
    "id": "LGJJ4TvbIWIo"
   },
   "source": [
    "## Задание 1"
   ]
  },
  {
   "cell_type": "markdown",
   "metadata": {
    "id": "E899hhY1IWMI"
   },
   "source": [
    "Оформляйте ноутбук, используя эти советы:\n",
    "\n",
    "* Номер задачи - заголовок 2\n",
    "\n",
    "* Номер подзадачи - заголовок 3\n",
    "\n",
    "* Предоставленные наборы данных оформляйте, как код"
   ]
  },
  {
   "cell_type": "markdown",
   "metadata": {
    "id": "BmLSFituIWWQ"
   },
   "source": [
    "## Задание 2"
   ]
  },
  {
   "cell_type": "markdown",
   "metadata": {
    "id": "gnEm3tBPIWYl"
   },
   "source": [
    "На складе лежат разные фрукты в разном количестве.\n",
    "Нужно написать функцию, которая на вход принимает любое количество названий фруктов и их количество, а возвращает общее количество фруктов на складе."
   ]
  },
  {
   "cell_type": "code",
   "execution_count": 1,
   "metadata": {
    "id": "cbMcW5Tb-8P_"
   },
   "outputs": [],
   "source": [
    "def total_fruits(**kwargs):\n",
    "\tfruits = 0\n",
    "\tfor i in kwargs.values():\n",
    "\t\tfruits += i\n",
    "\treturn f'Total fruits: {fruits}'"
   ]
  },
  {
   "cell_type": "code",
   "execution_count": 2,
   "metadata": {
    "colab": {
     "base_uri": "https://localhost:8080/"
    },
    "id": "v5Guhza8_027",
    "outputId": "9167efe8-e72c-433f-85d7-b68441bd2925"
   },
   "outputs": [
    {
     "name": "stdout",
     "output_type": "stream",
     "text": [
      "Total fruits: 270\n"
     ]
    }
   ],
   "source": [
    "print(total_fruits(apples = 100, bananas = 50, apricots = 80, pears = 40))"
   ]
  },
  {
   "cell_type": "markdown",
   "metadata": {
    "id": "Vrj_UFw8IWbo"
   },
   "source": [
    "## Задание 3"
   ]
  },
  {
   "cell_type": "markdown",
   "metadata": {
    "id": "7i6jpsB8I8OX"
   },
   "source": [
    "Дан список с затратами на рекламу. Но в данных есть ошибки, некоторые затраты имеют отрицательную величину. Удалите такие значения из списка и посчитайте суммарные затраты\n",
    "\n",
    "[100, 125, -90, 345, 655, -1, 0, 200]\n",
    "\n",
    "Используйте list comprehensions."
   ]
  },
  {
   "cell_type": "code",
   "execution_count": 3,
   "metadata": {
    "id": "XMMHY2R8CbB3"
   },
   "outputs": [],
   "source": [
    "data = [100, 125, -90, 345, 655, -1, 0, 200]"
   ]
  },
  {
   "cell_type": "code",
   "execution_count": 4,
   "metadata": {
    "id": "xuBWXQSsT1bK"
   },
   "outputs": [],
   "source": [
    "expenses = [i for i in data if i > 0]"
   ]
  },
  {
   "cell_type": "code",
   "execution_count": 5,
   "metadata": {
    "colab": {
     "base_uri": "https://localhost:8080/"
    },
    "id": "pTqSpLkoUIWK",
    "outputId": "1a97cf6d-a383-45ce-a718-57aaa37c0203"
   },
   "outputs": [
    {
     "data": {
      "text/plain": [
       "[100, 125, 345, 655, 200]"
      ]
     },
     "execution_count": 5,
     "metadata": {},
     "output_type": "execute_result"
    }
   ],
   "source": [
    "expenses"
   ]
  },
  {
   "cell_type": "code",
   "execution_count": 6,
   "metadata": {
    "id": "DrNoDph6XKJz"
   },
   "outputs": [],
   "source": [
    "from functools import reduce"
   ]
  },
  {
   "cell_type": "code",
   "execution_count": 7,
   "metadata": {
    "id": "BgomynOeYaIH"
   },
   "outputs": [],
   "source": [
    "def sum(x, y):\n",
    "    return x + y"
   ]
  },
  {
   "cell_type": "code",
   "execution_count": 8,
   "metadata": {
    "colab": {
     "base_uri": "https://localhost:8080/"
    },
    "id": "0IO-R47T24hC",
    "outputId": "8a52897f-d09a-4766-e37e-b1d0e7e6ca2d"
   },
   "outputs": [
    {
     "name": "stdout",
     "output_type": "stream",
     "text": [
      "Total expenses:  1425\n"
     ]
    }
   ],
   "source": [
    "result1 = reduce(sum, expenses)\n",
    "print('Total expenses: ', result1)"
   ]
  },
  {
   "cell_type": "code",
   "execution_count": 9,
   "metadata": {
    "id": "8P-N37wUg1oq"
   },
   "outputs": [],
   "source": [
    "import builtins"
   ]
  },
  {
   "cell_type": "code",
   "execution_count": 10,
   "metadata": {
    "colab": {
     "base_uri": "https://localhost:8080/"
    },
    "id": "Md2IgDkrhoWi",
    "outputId": "797e7d14-29dd-403d-dee4-431d7b9477b9"
   },
   "outputs": [
    {
     "name": "stdout",
     "output_type": "stream",
     "text": [
      "Total expenses:  1425\n"
     ]
    }
   ],
   "source": [
    "result2 = builtins.sum(expenses)\n",
    "print('Total expenses: ', result2)"
   ]
  },
  {
   "cell_type": "markdown",
   "metadata": {
    "id": "LVo3J1pDI8ar"
   },
   "source": [
    "## Задание 4"
   ]
  },
  {
   "cell_type": "markdown",
   "metadata": {
    "id": "m6a0CeePKLzL"
   },
   "source": [
    "Даны два списка.\n",
    "\n",
    "Дата покупки\n"
   ]
  },
  {
   "cell_type": "code",
   "execution_count": 11,
   "metadata": {
    "id": "XcdmV6SvKZDf"
   },
   "outputs": [],
   "source": [
    "date = ['2021-09-14', '2021-12-15', '2021-09-08', '2021-12-05', '2021-10-09',\n",
    "         '2021-09-30', '2021-12-22', '2021-11-29', '2021-12-24', '2021-11-26',\n",
    "         '2021-10-27', '2021-12-18', '2021-11-09', '2021-11-23', '2021-09-27',\n",
    "         '2021-10-02', '2021-12-27', '2021-09-20', '2021-12-13', '2021-11-01',\n",
    "         '2021-11-09', '2021-12-06', '2021-12-08', '2021-10-09', '2021-10-31',\n",
    "         '2021-09-30', '2021-11-09', '2021-12-13', '2021-10-26', '2021-12-09']"
   ]
  },
  {
   "cell_type": "markdown",
   "metadata": {
    "id": "wM2xN_z08NIL"
   },
   "source": [
    "\n",
    "Суммы покупок по датам"
   ]
  },
  {
   "cell_type": "code",
   "execution_count": 12,
   "metadata": {
    "id": "a4D_tRC8KZPP"
   },
   "outputs": [],
   "source": [
    "cost = [1270, 8413, 9028, 3703, 5739, 4095, 295, 4944, 5723, 3701, 4471, 651, 7037, 4274, 6275,\n",
    "         4988, 6930, 2971, 6592, 2004, 2822, 519, 3406, 2732, 5015, 2008, 316, 6333, 5700, 2887]"
   ]
  },
  {
   "cell_type": "markdown",
   "metadata": {
    "id": "Y9ds5ouY8Y2-"
   },
   "source": [
    "### Задание 4.1"
   ]
  },
  {
   "cell_type": "markdown",
   "metadata": {
    "id": "zciUYuGb8UY2"
   },
   "source": [
    "Найдите, какая выручка у компании в ноябре.\n",
    "\n",
    "Используйте list comprehensions."
   ]
  },
  {
   "cell_type": "code",
   "execution_count": 13,
   "metadata": {
    "id": "FjtHiuzzc-EK"
   },
   "outputs": [],
   "source": [
    "def november1(data1: list, data2: list) -> list:\n",
    "    new_data = []\n",
    "    for i in range(len(data1)-1):\n",
    "        if '-11-' in data1[i]:\n",
    "            new_data.append(data2[i])\n",
    "    return new_data"
   ]
  },
  {
   "cell_type": "code",
   "execution_count": 14,
   "metadata": {
    "colab": {
     "base_uri": "https://localhost:8080/"
    },
    "id": "OQVFkrKC0n_t",
    "outputId": "18ca928c-6b38-4167-a5ab-6a5cae407356"
   },
   "outputs": [
    {
     "data": {
      "text/plain": [
       "[4944, 3701, 7037, 4274, 2004, 2822, 316]"
      ]
     },
     "execution_count": 14,
     "metadata": {},
     "output_type": "execute_result"
    }
   ],
   "source": [
    "november1(date, cost)\n"
   ]
  },
  {
   "cell_type": "code",
   "execution_count": 15,
   "metadata": {
    "id": "7s7Nw2-mEzBK"
   },
   "outputs": [],
   "source": [
    "november2 = [cost[i] for i in range(len(date)) if date[i].split(\"-\")[1] == \"11\"]"
   ]
  },
  {
   "cell_type": "code",
   "execution_count": 16,
   "metadata": {
    "colab": {
     "base_uri": "https://localhost:8080/"
    },
    "id": "XSvL2qyrLi-9",
    "outputId": "a97d257e-32a9-48ce-f3e2-bda2874505c2"
   },
   "outputs": [
    {
     "data": {
      "text/plain": [
       "[4944, 3701, 7037, 4274, 2004, 2822, 316]"
      ]
     },
     "execution_count": 16,
     "metadata": {},
     "output_type": "execute_result"
    }
   ],
   "source": [
    "november2"
   ]
  },
  {
   "cell_type": "code",
   "execution_count": 17,
   "metadata": {
    "colab": {
     "base_uri": "https://localhost:8080/"
    },
    "id": "--XgVHb7K7Uq",
    "outputId": "a2b66722-3fa3-45c0-bdb4-f7cb1a109142"
   },
   "outputs": [
    {
     "name": "stdout",
     "output_type": "stream",
     "text": [
      "Revenue in november:  25098\n"
     ]
    }
   ],
   "source": [
    "sum_revenue = 0\n",
    "for num in november2:\n",
    "    sum_revenue += num\n",
    "print('Revenue in november: ', sum_revenue)"
   ]
  },
  {
   "cell_type": "markdown",
   "metadata": {
    "id": "cpV2zeOLI8hL"
   },
   "source": [
    "### Задание 4.2"
   ]
  },
  {
   "cell_type": "markdown",
   "metadata": {
    "id": "tgEJvkqDKB5T"
   },
   "source": [
    "Найдите выручку компании в зависимости от месяца.\n",
    "Для этого напишите функцию, которая на вход принимает список с датами и список с выручкой, а на выходе словарь, где ключи - это месяцы, а значения - это выручка.\n",
    "Используйте аннотирование типов."
   ]
  },
  {
   "cell_type": "code",
   "execution_count": 18,
   "metadata": {
    "id": "nz-tU79twtHg"
   },
   "outputs": [],
   "source": [
    "def dict_1(data1: list, data2: list) -> dict:\n",
    "    new_dict = {}\n",
    "    for i in range(len(data1)):\n",
    "        if date[i].split('-')[1] in new_dict.keys():\n",
    "            new_dict[date[i].split('-')[1]] += cost[i]\n",
    "        else:\n",
    "            new_dict[date[i].split('-')[1]] = cost[i]\n",
    "    return new_dict"
   ]
  },
  {
   "cell_type": "code",
   "execution_count": 19,
   "metadata": {
    "colab": {
     "base_uri": "https://localhost:8080/"
    },
    "id": "y0tbXr73sOhv",
    "outputId": "144f1154-3aa6-4161-f49b-1587562aa208"
   },
   "outputs": [
    {
     "data": {
      "text/plain": [
       "{'09': 25647, '12': 45452, '10': 28645, '11': 25098}"
      ]
     },
     "execution_count": 19,
     "metadata": {},
     "output_type": "execute_result"
    }
   ],
   "source": [
    "dict_1(date, cost)"
   ]
  }
 ],
 "metadata": {
  "colab": {
   "provenance": []
  },
  "kernelspec": {
   "display_name": "Python 3 (ipykernel)",
   "language": "python",
   "name": "python3"
  },
  "language_info": {
   "codemirror_mode": {
    "name": "ipython",
    "version": 3
   },
   "file_extension": ".py",
   "mimetype": "text/x-python",
   "name": "python",
   "nbconvert_exporter": "python",
   "pygments_lexer": "ipython3",
   "version": "3.10.9"
  }
 },
 "nbformat": 4,
 "nbformat_minor": 1
}
